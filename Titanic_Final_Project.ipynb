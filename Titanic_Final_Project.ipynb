{
  "nbformat": 4,
  "nbformat_minor": 0,
  "metadata": {
    "colab": {
      "provenance": [],
      "collapsed_sections": [
        "pnPTOXq3rw-n",
        "CQZ9Ug5uscHX",
        "8OrQHQ22sjxT",
        "mD7A2RcXs6LU"
      ]
    },
    "kernelspec": {
      "name": "python3",
      "display_name": "Python 3"
    },
    "language_info": {
      "name": "python"
    }
  },
  "cells": [
    {
      "cell_type": "markdown",
      "source": [
        "MIT License\n",
        "\n",
        "Copyright (c) 2024 ewilkin-star\n",
        "\n",
        "Permission is hereby granted, free of charge, to any person obtaining a copy\n",
        "of this software and associated documentation files (the \"Software\"), to deal\n",
        "in the Software without restriction, including without limitation the rights\n",
        "to use, copy, modify, merge, publish, distribute, sublicense, and/or sell\n",
        "copies of the Software, and to permit persons to whom the Software is\n",
        "furnished to do so, subject to the following conditions:\n",
        "\n",
        "The above copyright notice and this permission notice shall be included in all\n",
        "copies or substantial portions of the Software.\n",
        "\n",
        "THE SOFTWARE IS PROVIDED \"AS IS\", WITHOUT WARRANTY OF ANY KIND, EXPRESS OR\n",
        "IMPLIED, INCLUDING BUT NOT LIMITED TO THE WARRANTIES OF MERCHANTABILITY,\n",
        "FITNESS FOR A PARTICULAR PURPOSE AND NONINFRINGEMENT. IN NO EVENT SHALL THE\n",
        "AUTHORS OR COPYRIGHT HOLDERS BE LIABLE FOR ANY CLAIM, DAMAGES OR OTHER\n",
        "LIABILITY, WHETHER IN AN ACTION OF CONTRACT, TORT OR OTHERWISE, ARISING FROM,\n",
        "OUT OF OR IN CONNECTION WITH THE SOFTWARE OR THE USE OR OTHER DEALINGS IN THE\n",
        "SOFTWARE."
      ],
      "metadata": {
        "id": "JcRCCXUczqIj"
      }
    },
    {
      "cell_type": "markdown",
      "source": [
        "#Titanic Dataset - Best Model"
      ],
      "metadata": {
        "id": "Csky6W0j2a3i"
      }
    },
    {
      "cell_type": "markdown",
      "source": [
        "## Importing Packages and Loading Data"
      ],
      "metadata": {
        "id": "pnPTOXq3rw-n"
      }
    },
    {
      "cell_type": "markdown",
      "source": [
        "Importing all necessary packages for modeling & visualizations"
      ],
      "metadata": {
        "id": "R8YLSmvxvBQ7"
      }
    },
    {
      "cell_type": "code",
      "source": [
        "import pandas as pd # For reading in and altering the dataframes\n",
        "import numpy as np\n",
        "import matplotlib.pyplot as plt # For plotting the ROC curve\n",
        "import seaborn as sns # For confusion matrix\n",
        "from sklearn.ensemble import RandomForestClassifier # For random forest\n",
        "from sklearn.model_selection import train_test_split # For splitting the data\n",
        "from sklearn.metrics import accuracy_score # For evaluating the model\n",
        "from sklearn.metrics import roc_auc_score, roc_curve # For plotting the ROC curve\n",
        "from sklearn.metrics import confusion_matrix # For plotting the confusion matrix\n",
        "from sklearn.metrics import precision_recall_curve # For plotting the Precision-Recall curve\n",
        "from sklearn.model_selection import learning_curve # For plotting the learning curve"
      ],
      "metadata": {
        "id": "lOObIlAm3NyH"
      },
      "execution_count": 157,
      "outputs": []
    },
    {
      "cell_type": "markdown",
      "source": [
        "Obtaining Version Information"
      ],
      "metadata": {
        "id": "U8cU3pTqvF2P"
      }
    },
    {
      "cell_type": "code",
      "source": [
        "# Version information:\n",
        "\n",
        "import sys\n",
        "import sklearn\n",
        "import matplotlib\n",
        "import seaborn\n",
        "\n",
        "version = \".\".join(map(str, sys.version_info[:3]))\n",
        "print(\"Versions:\")\n",
        "print(\"Python: \", version)\n",
        "print(\"sklearn: \", sklearn.__version__)\n",
        "print(\"pandas: \", pd.__version__)\n",
        "print(\"numpy: \", np.__version__)\n",
        "print(\"matplotlib: \", matplotlib.__version__)\n",
        "print(\"seaborn: \", seaborn.__version__)"
      ],
      "metadata": {
        "colab": {
          "base_uri": "https://localhost:8080/"
        },
        "id": "w5ttIGv3qR8J",
        "outputId": "6e259bdc-6b57-40d3-a32a-3c8aab68cb4b"
      },
      "execution_count": 158,
      "outputs": [
        {
          "output_type": "stream",
          "name": "stdout",
          "text": [
            "Versions:\n",
            "Python:  3.10.12\n",
            "sklearn:  1.5.2\n",
            "pandas:  2.2.2\n",
            "numpy:  1.26.4\n",
            "matplotlib:  3.8.0\n",
            "seaborn:  0.13.2\n"
          ]
        }
      ]
    },
    {
      "cell_type": "markdown",
      "source": [
        "Loading Training Dataset"
      ],
      "metadata": {
        "id": "-pTTp1WNvJC1"
      }
    },
    {
      "cell_type": "code",
      "source": [
        "train_data = pd.read_csv(\"train.csv\")"
      ],
      "metadata": {
        "id": "VRV6HlOm31dy"
      },
      "execution_count": 159,
      "outputs": []
    },
    {
      "cell_type": "markdown",
      "source": [
        "Listing Columns in Training Data"
      ],
      "metadata": {
        "id": "npuDf2K-vLdN"
      }
    },
    {
      "cell_type": "code",
      "source": [
        "train_data.columns"
      ],
      "metadata": {
        "colab": {
          "base_uri": "https://localhost:8080/"
        },
        "id": "KpoMFrizIt1K",
        "outputId": "a81dee41-7e77-4147-cbf9-bf8c5ebee253"
      },
      "execution_count": 160,
      "outputs": [
        {
          "output_type": "execute_result",
          "data": {
            "text/plain": [
              "Index(['PassengerId', 'Survived', 'Pclass', 'Name', 'Sex', 'Age', 'SibSp',\n",
              "       'Parch', 'Ticket', 'Fare', 'Cabin', 'Embarked'],\n",
              "      dtype='object')"
            ]
          },
          "metadata": {},
          "execution_count": 160
        }
      ]
    },
    {
      "cell_type": "markdown",
      "source": [],
      "metadata": {
        "id": "npWeejo8vOtu"
      }
    },
    {
      "cell_type": "markdown",
      "source": [
        "## Training the Model"
      ],
      "metadata": {
        "id": "CQZ9Ug5uscHX"
      }
    },
    {
      "cell_type": "markdown",
      "source": [
        "Creating dummy variables for categorical data"
      ],
      "metadata": {
        "id": "tk0zDVudve7l"
      }
    },
    {
      "cell_type": "code",
      "source": [
        "# Getting dummy variables.\n",
        "# Dropping features that were not used in achieving this test score.\n",
        "\n",
        "X_train = pd.get_dummies(train_data, columns=[\"Sex\", \"Pclass\"], drop_first = True)\n",
        "X_train.drop([\"PassengerId\", \"Survived\", \"Name\", \"Ticket\", \"Cabin\", \"Embarked\", \"SibSp\", \"Parch\", \"Pclass_2\"], axis=1, inplace=True)\n",
        "\n",
        "y_train = train_data[\"Survived\"]"
      ],
      "metadata": {
        "id": "YXG8xf-wnZVG"
      },
      "execution_count": 161,
      "outputs": []
    },
    {
      "cell_type": "markdown",
      "source": [
        "To achieve the highest test score from our model training, only four features were used: \"Age\", \"Fare\", \"Sex_male\" (dummy for \"Sex\"), and \"Pclass_3\" (dummy for class 3; class 2 was not as important of a feature)."
      ],
      "metadata": {
        "id": "ITJgir8l4t4e"
      }
    },
    {
      "cell_type": "markdown",
      "source": [
        "Separating validation data"
      ],
      "metadata": {
        "id": "5-fGLxxPvkE6"
      }
    },
    {
      "cell_type": "code",
      "source": [
        "# Splitting the data into training and validation sets\n",
        "X_train_split, X_val, y_train_split, y_val = train_test_split(\n",
        "    X_train, y_train, test_size=0.2, random_state=1\n",
        ")"
      ],
      "metadata": {
        "id": "wP7Sv6WMafig"
      },
      "execution_count": 162,
      "outputs": []
    },
    {
      "cell_type": "markdown",
      "source": [
        "Code to find number of rows in each dataset"
      ],
      "metadata": {
        "id": "vNfDQJrPvoOl"
      }
    },
    {
      "cell_type": "code",
      "source": [
        "# Number of rows in each dataset\n",
        "print(f\"Training: {X_train_split.shape[0]}\")\n",
        "print(f\"Validation: {X_val.shape[0]}\")"
      ],
      "metadata": {
        "colab": {
          "base_uri": "https://localhost:8080/"
        },
        "id": "JR8y1T7Jytf1",
        "outputId": "09f21fbe-8e26-484f-b4a4-00fec68e1420"
      },
      "execution_count": 163,
      "outputs": [
        {
          "output_type": "stream",
          "name": "stdout",
          "text": [
            "Training: 712\n",
            "Validation: 179\n"
          ]
        }
      ]
    },
    {
      "cell_type": "markdown",
      "source": [
        "Training the RandomForestClassifier"
      ],
      "metadata": {
        "id": "X6RrEwaRvqnD"
      }
    },
    {
      "cell_type": "code",
      "source": [
        "# Training the model\n",
        "model = RandomForestClassifier(max_depth=6, min_samples_split=40, random_state=1)\n",
        "model.fit(X_train_split, y_train_split)"
      ],
      "metadata": {
        "colab": {
          "base_uri": "https://localhost:8080/",
          "height": 0
        },
        "id": "HrYNnvMQS_Zv",
        "outputId": "7cbabb72-84ec-4f14-ff03-cee6bc3fa5a7"
      },
      "execution_count": 164,
      "outputs": [
        {
          "output_type": "execute_result",
          "data": {
            "text/plain": [
              "RandomForestClassifier(max_depth=6, min_samples_split=40, random_state=1)"
            ],
            "text/html": [
              "<style>#sk-container-id-3 {\n",
              "  /* Definition of color scheme common for light and dark mode */\n",
              "  --sklearn-color-text: black;\n",
              "  --sklearn-color-line: gray;\n",
              "  /* Definition of color scheme for unfitted estimators */\n",
              "  --sklearn-color-unfitted-level-0: #fff5e6;\n",
              "  --sklearn-color-unfitted-level-1: #f6e4d2;\n",
              "  --sklearn-color-unfitted-level-2: #ffe0b3;\n",
              "  --sklearn-color-unfitted-level-3: chocolate;\n",
              "  /* Definition of color scheme for fitted estimators */\n",
              "  --sklearn-color-fitted-level-0: #f0f8ff;\n",
              "  --sklearn-color-fitted-level-1: #d4ebff;\n",
              "  --sklearn-color-fitted-level-2: #b3dbfd;\n",
              "  --sklearn-color-fitted-level-3: cornflowerblue;\n",
              "\n",
              "  /* Specific color for light theme */\n",
              "  --sklearn-color-text-on-default-background: var(--sg-text-color, var(--theme-code-foreground, var(--jp-content-font-color1, black)));\n",
              "  --sklearn-color-background: var(--sg-background-color, var(--theme-background, var(--jp-layout-color0, white)));\n",
              "  --sklearn-color-border-box: var(--sg-text-color, var(--theme-code-foreground, var(--jp-content-font-color1, black)));\n",
              "  --sklearn-color-icon: #696969;\n",
              "\n",
              "  @media (prefers-color-scheme: dark) {\n",
              "    /* Redefinition of color scheme for dark theme */\n",
              "    --sklearn-color-text-on-default-background: var(--sg-text-color, var(--theme-code-foreground, var(--jp-content-font-color1, white)));\n",
              "    --sklearn-color-background: var(--sg-background-color, var(--theme-background, var(--jp-layout-color0, #111)));\n",
              "    --sklearn-color-border-box: var(--sg-text-color, var(--theme-code-foreground, var(--jp-content-font-color1, white)));\n",
              "    --sklearn-color-icon: #878787;\n",
              "  }\n",
              "}\n",
              "\n",
              "#sk-container-id-3 {\n",
              "  color: var(--sklearn-color-text);\n",
              "}\n",
              "\n",
              "#sk-container-id-3 pre {\n",
              "  padding: 0;\n",
              "}\n",
              "\n",
              "#sk-container-id-3 input.sk-hidden--visually {\n",
              "  border: 0;\n",
              "  clip: rect(1px 1px 1px 1px);\n",
              "  clip: rect(1px, 1px, 1px, 1px);\n",
              "  height: 1px;\n",
              "  margin: -1px;\n",
              "  overflow: hidden;\n",
              "  padding: 0;\n",
              "  position: absolute;\n",
              "  width: 1px;\n",
              "}\n",
              "\n",
              "#sk-container-id-3 div.sk-dashed-wrapped {\n",
              "  border: 1px dashed var(--sklearn-color-line);\n",
              "  margin: 0 0.4em 0.5em 0.4em;\n",
              "  box-sizing: border-box;\n",
              "  padding-bottom: 0.4em;\n",
              "  background-color: var(--sklearn-color-background);\n",
              "}\n",
              "\n",
              "#sk-container-id-3 div.sk-container {\n",
              "  /* jupyter's `normalize.less` sets `[hidden] { display: none; }`\n",
              "     but bootstrap.min.css set `[hidden] { display: none !important; }`\n",
              "     so we also need the `!important` here to be able to override the\n",
              "     default hidden behavior on the sphinx rendered scikit-learn.org.\n",
              "     See: https://github.com/scikit-learn/scikit-learn/issues/21755 */\n",
              "  display: inline-block !important;\n",
              "  position: relative;\n",
              "}\n",
              "\n",
              "#sk-container-id-3 div.sk-text-repr-fallback {\n",
              "  display: none;\n",
              "}\n",
              "\n",
              "div.sk-parallel-item,\n",
              "div.sk-serial,\n",
              "div.sk-item {\n",
              "  /* draw centered vertical line to link estimators */\n",
              "  background-image: linear-gradient(var(--sklearn-color-text-on-default-background), var(--sklearn-color-text-on-default-background));\n",
              "  background-size: 2px 100%;\n",
              "  background-repeat: no-repeat;\n",
              "  background-position: center center;\n",
              "}\n",
              "\n",
              "/* Parallel-specific style estimator block */\n",
              "\n",
              "#sk-container-id-3 div.sk-parallel-item::after {\n",
              "  content: \"\";\n",
              "  width: 100%;\n",
              "  border-bottom: 2px solid var(--sklearn-color-text-on-default-background);\n",
              "  flex-grow: 1;\n",
              "}\n",
              "\n",
              "#sk-container-id-3 div.sk-parallel {\n",
              "  display: flex;\n",
              "  align-items: stretch;\n",
              "  justify-content: center;\n",
              "  background-color: var(--sklearn-color-background);\n",
              "  position: relative;\n",
              "}\n",
              "\n",
              "#sk-container-id-3 div.sk-parallel-item {\n",
              "  display: flex;\n",
              "  flex-direction: column;\n",
              "}\n",
              "\n",
              "#sk-container-id-3 div.sk-parallel-item:first-child::after {\n",
              "  align-self: flex-end;\n",
              "  width: 50%;\n",
              "}\n",
              "\n",
              "#sk-container-id-3 div.sk-parallel-item:last-child::after {\n",
              "  align-self: flex-start;\n",
              "  width: 50%;\n",
              "}\n",
              "\n",
              "#sk-container-id-3 div.sk-parallel-item:only-child::after {\n",
              "  width: 0;\n",
              "}\n",
              "\n",
              "/* Serial-specific style estimator block */\n",
              "\n",
              "#sk-container-id-3 div.sk-serial {\n",
              "  display: flex;\n",
              "  flex-direction: column;\n",
              "  align-items: center;\n",
              "  background-color: var(--sklearn-color-background);\n",
              "  padding-right: 1em;\n",
              "  padding-left: 1em;\n",
              "}\n",
              "\n",
              "\n",
              "/* Toggleable style: style used for estimator/Pipeline/ColumnTransformer box that is\n",
              "clickable and can be expanded/collapsed.\n",
              "- Pipeline and ColumnTransformer use this feature and define the default style\n",
              "- Estimators will overwrite some part of the style using the `sk-estimator` class\n",
              "*/\n",
              "\n",
              "/* Pipeline and ColumnTransformer style (default) */\n",
              "\n",
              "#sk-container-id-3 div.sk-toggleable {\n",
              "  /* Default theme specific background. It is overwritten whether we have a\n",
              "  specific estimator or a Pipeline/ColumnTransformer */\n",
              "  background-color: var(--sklearn-color-background);\n",
              "}\n",
              "\n",
              "/* Toggleable label */\n",
              "#sk-container-id-3 label.sk-toggleable__label {\n",
              "  cursor: pointer;\n",
              "  display: block;\n",
              "  width: 100%;\n",
              "  margin-bottom: 0;\n",
              "  padding: 0.5em;\n",
              "  box-sizing: border-box;\n",
              "  text-align: center;\n",
              "}\n",
              "\n",
              "#sk-container-id-3 label.sk-toggleable__label-arrow:before {\n",
              "  /* Arrow on the left of the label */\n",
              "  content: \"▸\";\n",
              "  float: left;\n",
              "  margin-right: 0.25em;\n",
              "  color: var(--sklearn-color-icon);\n",
              "}\n",
              "\n",
              "#sk-container-id-3 label.sk-toggleable__label-arrow:hover:before {\n",
              "  color: var(--sklearn-color-text);\n",
              "}\n",
              "\n",
              "/* Toggleable content - dropdown */\n",
              "\n",
              "#sk-container-id-3 div.sk-toggleable__content {\n",
              "  max-height: 0;\n",
              "  max-width: 0;\n",
              "  overflow: hidden;\n",
              "  text-align: left;\n",
              "  /* unfitted */\n",
              "  background-color: var(--sklearn-color-unfitted-level-0);\n",
              "}\n",
              "\n",
              "#sk-container-id-3 div.sk-toggleable__content.fitted {\n",
              "  /* fitted */\n",
              "  background-color: var(--sklearn-color-fitted-level-0);\n",
              "}\n",
              "\n",
              "#sk-container-id-3 div.sk-toggleable__content pre {\n",
              "  margin: 0.2em;\n",
              "  border-radius: 0.25em;\n",
              "  color: var(--sklearn-color-text);\n",
              "  /* unfitted */\n",
              "  background-color: var(--sklearn-color-unfitted-level-0);\n",
              "}\n",
              "\n",
              "#sk-container-id-3 div.sk-toggleable__content.fitted pre {\n",
              "  /* unfitted */\n",
              "  background-color: var(--sklearn-color-fitted-level-0);\n",
              "}\n",
              "\n",
              "#sk-container-id-3 input.sk-toggleable__control:checked~div.sk-toggleable__content {\n",
              "  /* Expand drop-down */\n",
              "  max-height: 200px;\n",
              "  max-width: 100%;\n",
              "  overflow: auto;\n",
              "}\n",
              "\n",
              "#sk-container-id-3 input.sk-toggleable__control:checked~label.sk-toggleable__label-arrow:before {\n",
              "  content: \"▾\";\n",
              "}\n",
              "\n",
              "/* Pipeline/ColumnTransformer-specific style */\n",
              "\n",
              "#sk-container-id-3 div.sk-label input.sk-toggleable__control:checked~label.sk-toggleable__label {\n",
              "  color: var(--sklearn-color-text);\n",
              "  background-color: var(--sklearn-color-unfitted-level-2);\n",
              "}\n",
              "\n",
              "#sk-container-id-3 div.sk-label.fitted input.sk-toggleable__control:checked~label.sk-toggleable__label {\n",
              "  background-color: var(--sklearn-color-fitted-level-2);\n",
              "}\n",
              "\n",
              "/* Estimator-specific style */\n",
              "\n",
              "/* Colorize estimator box */\n",
              "#sk-container-id-3 div.sk-estimator input.sk-toggleable__control:checked~label.sk-toggleable__label {\n",
              "  /* unfitted */\n",
              "  background-color: var(--sklearn-color-unfitted-level-2);\n",
              "}\n",
              "\n",
              "#sk-container-id-3 div.sk-estimator.fitted input.sk-toggleable__control:checked~label.sk-toggleable__label {\n",
              "  /* fitted */\n",
              "  background-color: var(--sklearn-color-fitted-level-2);\n",
              "}\n",
              "\n",
              "#sk-container-id-3 div.sk-label label.sk-toggleable__label,\n",
              "#sk-container-id-3 div.sk-label label {\n",
              "  /* The background is the default theme color */\n",
              "  color: var(--sklearn-color-text-on-default-background);\n",
              "}\n",
              "\n",
              "/* On hover, darken the color of the background */\n",
              "#sk-container-id-3 div.sk-label:hover label.sk-toggleable__label {\n",
              "  color: var(--sklearn-color-text);\n",
              "  background-color: var(--sklearn-color-unfitted-level-2);\n",
              "}\n",
              "\n",
              "/* Label box, darken color on hover, fitted */\n",
              "#sk-container-id-3 div.sk-label.fitted:hover label.sk-toggleable__label.fitted {\n",
              "  color: var(--sklearn-color-text);\n",
              "  background-color: var(--sklearn-color-fitted-level-2);\n",
              "}\n",
              "\n",
              "/* Estimator label */\n",
              "\n",
              "#sk-container-id-3 div.sk-label label {\n",
              "  font-family: monospace;\n",
              "  font-weight: bold;\n",
              "  display: inline-block;\n",
              "  line-height: 1.2em;\n",
              "}\n",
              "\n",
              "#sk-container-id-3 div.sk-label-container {\n",
              "  text-align: center;\n",
              "}\n",
              "\n",
              "/* Estimator-specific */\n",
              "#sk-container-id-3 div.sk-estimator {\n",
              "  font-family: monospace;\n",
              "  border: 1px dotted var(--sklearn-color-border-box);\n",
              "  border-radius: 0.25em;\n",
              "  box-sizing: border-box;\n",
              "  margin-bottom: 0.5em;\n",
              "  /* unfitted */\n",
              "  background-color: var(--sklearn-color-unfitted-level-0);\n",
              "}\n",
              "\n",
              "#sk-container-id-3 div.sk-estimator.fitted {\n",
              "  /* fitted */\n",
              "  background-color: var(--sklearn-color-fitted-level-0);\n",
              "}\n",
              "\n",
              "/* on hover */\n",
              "#sk-container-id-3 div.sk-estimator:hover {\n",
              "  /* unfitted */\n",
              "  background-color: var(--sklearn-color-unfitted-level-2);\n",
              "}\n",
              "\n",
              "#sk-container-id-3 div.sk-estimator.fitted:hover {\n",
              "  /* fitted */\n",
              "  background-color: var(--sklearn-color-fitted-level-2);\n",
              "}\n",
              "\n",
              "/* Specification for estimator info (e.g. \"i\" and \"?\") */\n",
              "\n",
              "/* Common style for \"i\" and \"?\" */\n",
              "\n",
              ".sk-estimator-doc-link,\n",
              "a:link.sk-estimator-doc-link,\n",
              "a:visited.sk-estimator-doc-link {\n",
              "  float: right;\n",
              "  font-size: smaller;\n",
              "  line-height: 1em;\n",
              "  font-family: monospace;\n",
              "  background-color: var(--sklearn-color-background);\n",
              "  border-radius: 1em;\n",
              "  height: 1em;\n",
              "  width: 1em;\n",
              "  text-decoration: none !important;\n",
              "  margin-left: 1ex;\n",
              "  /* unfitted */\n",
              "  border: var(--sklearn-color-unfitted-level-1) 1pt solid;\n",
              "  color: var(--sklearn-color-unfitted-level-1);\n",
              "}\n",
              "\n",
              ".sk-estimator-doc-link.fitted,\n",
              "a:link.sk-estimator-doc-link.fitted,\n",
              "a:visited.sk-estimator-doc-link.fitted {\n",
              "  /* fitted */\n",
              "  border: var(--sklearn-color-fitted-level-1) 1pt solid;\n",
              "  color: var(--sklearn-color-fitted-level-1);\n",
              "}\n",
              "\n",
              "/* On hover */\n",
              "div.sk-estimator:hover .sk-estimator-doc-link:hover,\n",
              ".sk-estimator-doc-link:hover,\n",
              "div.sk-label-container:hover .sk-estimator-doc-link:hover,\n",
              ".sk-estimator-doc-link:hover {\n",
              "  /* unfitted */\n",
              "  background-color: var(--sklearn-color-unfitted-level-3);\n",
              "  color: var(--sklearn-color-background);\n",
              "  text-decoration: none;\n",
              "}\n",
              "\n",
              "div.sk-estimator.fitted:hover .sk-estimator-doc-link.fitted:hover,\n",
              ".sk-estimator-doc-link.fitted:hover,\n",
              "div.sk-label-container:hover .sk-estimator-doc-link.fitted:hover,\n",
              ".sk-estimator-doc-link.fitted:hover {\n",
              "  /* fitted */\n",
              "  background-color: var(--sklearn-color-fitted-level-3);\n",
              "  color: var(--sklearn-color-background);\n",
              "  text-decoration: none;\n",
              "}\n",
              "\n",
              "/* Span, style for the box shown on hovering the info icon */\n",
              ".sk-estimator-doc-link span {\n",
              "  display: none;\n",
              "  z-index: 9999;\n",
              "  position: relative;\n",
              "  font-weight: normal;\n",
              "  right: .2ex;\n",
              "  padding: .5ex;\n",
              "  margin: .5ex;\n",
              "  width: min-content;\n",
              "  min-width: 20ex;\n",
              "  max-width: 50ex;\n",
              "  color: var(--sklearn-color-text);\n",
              "  box-shadow: 2pt 2pt 4pt #999;\n",
              "  /* unfitted */\n",
              "  background: var(--sklearn-color-unfitted-level-0);\n",
              "  border: .5pt solid var(--sklearn-color-unfitted-level-3);\n",
              "}\n",
              "\n",
              ".sk-estimator-doc-link.fitted span {\n",
              "  /* fitted */\n",
              "  background: var(--sklearn-color-fitted-level-0);\n",
              "  border: var(--sklearn-color-fitted-level-3);\n",
              "}\n",
              "\n",
              ".sk-estimator-doc-link:hover span {\n",
              "  display: block;\n",
              "}\n",
              "\n",
              "/* \"?\"-specific style due to the `<a>` HTML tag */\n",
              "\n",
              "#sk-container-id-3 a.estimator_doc_link {\n",
              "  float: right;\n",
              "  font-size: 1rem;\n",
              "  line-height: 1em;\n",
              "  font-family: monospace;\n",
              "  background-color: var(--sklearn-color-background);\n",
              "  border-radius: 1rem;\n",
              "  height: 1rem;\n",
              "  width: 1rem;\n",
              "  text-decoration: none;\n",
              "  /* unfitted */\n",
              "  color: var(--sklearn-color-unfitted-level-1);\n",
              "  border: var(--sklearn-color-unfitted-level-1) 1pt solid;\n",
              "}\n",
              "\n",
              "#sk-container-id-3 a.estimator_doc_link.fitted {\n",
              "  /* fitted */\n",
              "  border: var(--sklearn-color-fitted-level-1) 1pt solid;\n",
              "  color: var(--sklearn-color-fitted-level-1);\n",
              "}\n",
              "\n",
              "/* On hover */\n",
              "#sk-container-id-3 a.estimator_doc_link:hover {\n",
              "  /* unfitted */\n",
              "  background-color: var(--sklearn-color-unfitted-level-3);\n",
              "  color: var(--sklearn-color-background);\n",
              "  text-decoration: none;\n",
              "}\n",
              "\n",
              "#sk-container-id-3 a.estimator_doc_link.fitted:hover {\n",
              "  /* fitted */\n",
              "  background-color: var(--sklearn-color-fitted-level-3);\n",
              "}\n",
              "</style><div id=\"sk-container-id-3\" class=\"sk-top-container\"><div class=\"sk-text-repr-fallback\"><pre>RandomForestClassifier(max_depth=6, min_samples_split=40, random_state=1)</pre><b>In a Jupyter environment, please rerun this cell to show the HTML representation or trust the notebook. <br />On GitHub, the HTML representation is unable to render, please try loading this page with nbviewer.org.</b></div><div class=\"sk-container\" hidden><div class=\"sk-item\"><div class=\"sk-estimator fitted sk-toggleable\"><input class=\"sk-toggleable__control sk-hidden--visually\" id=\"sk-estimator-id-3\" type=\"checkbox\" checked><label for=\"sk-estimator-id-3\" class=\"sk-toggleable__label fitted sk-toggleable__label-arrow fitted\">&nbsp;&nbsp;RandomForestClassifier<a class=\"sk-estimator-doc-link fitted\" rel=\"noreferrer\" target=\"_blank\" href=\"https://scikit-learn.org/1.5/modules/generated/sklearn.ensemble.RandomForestClassifier.html\">?<span>Documentation for RandomForestClassifier</span></a><span class=\"sk-estimator-doc-link fitted\">i<span>Fitted</span></span></label><div class=\"sk-toggleable__content fitted\"><pre>RandomForestClassifier(max_depth=6, min_samples_split=40, random_state=1)</pre></div> </div></div></div></div>"
            ]
          },
          "metadata": {},
          "execution_count": 164
        }
      ]
    },
    {
      "cell_type": "markdown",
      "source": [
        "## Evaluating the Model: Accuracy and AUC"
      ],
      "metadata": {
        "id": "8OrQHQ22sjxT"
      }
    },
    {
      "cell_type": "markdown",
      "source": [
        "Obtaining Training and Validation Accuracy"
      ],
      "metadata": {
        "id": "1vmgyhg1vyk-"
      }
    },
    {
      "cell_type": "code",
      "source": [
        "# Making predictions on both training and validation\n",
        "train_predictions = model.predict(X_train_split)\n",
        "val_predictions = model.predict(X_val)\n",
        "\n",
        "# Calculating accuracy\n",
        "train_accuracy = accuracy_score(y_train_split, train_predictions)\n",
        "val_accuracy = accuracy_score(y_val, val_predictions)\n",
        "\n",
        "# Printing both accuracies\n",
        "print(f\"Training Accuracy: {train_accuracy:.6f}\")\n",
        "print(f\"Validation Accuracy: {val_accuracy:.6f}\")"
      ],
      "metadata": {
        "colab": {
          "base_uri": "https://localhost:8080/"
        },
        "id": "vJ9jOHW1Tpnj",
        "outputId": "b7e67212-6136-4099-d96f-ffc24a7fa965"
      },
      "execution_count": 165,
      "outputs": [
        {
          "output_type": "stream",
          "name": "stdout",
          "text": [
            "Training Accuracy: 0.855337\n",
            "Validation Accuracy: 0.759777\n"
          ]
        }
      ]
    },
    {
      "cell_type": "markdown",
      "source": [
        "Obtaining predictions on \"test.csv\" in order to submit to kaggle and recieve test accuracy"
      ],
      "metadata": {
        "id": "fuB1mgUsv1Ue"
      }
    },
    {
      "cell_type": "code",
      "source": [
        "# Test data to submit to kaggle for test accuracy\n",
        "test_data = pd.read_csv(\"test.csv\")\n",
        "X_test = pd.get_dummies(test_data, columns=[\"Sex\", \"Pclass\"], drop_first=True)\n",
        "X_test.drop([\"PassengerId\", \"Name\", \"Ticket\", \"Cabin\", \"Embarked\", \"SibSp\", \"Parch\", \"Pclass_2\"], axis=1, inplace=True)\n",
        "\n",
        "# Make predictions\n",
        "test_predictions = model.predict(X_test)\n",
        "\n",
        "# Create dataframe with PassengerId and predictions\n",
        "submission = pd.DataFrame({\n",
        "    \"PassengerId\": test_data[\"PassengerId\"],\n",
        "    \"Survived\": test_predictions\n",
        "})\n",
        "\n",
        "# CSV file for Kaggle submission\n",
        "submission.to_csv(\"titanic_test_data_predictions.csv\", index=False)\n",
        "\n",
        "print(\"Kaggle's score for the test dataset: 0.78229\")"
      ],
      "metadata": {
        "colab": {
          "base_uri": "https://localhost:8080/"
        },
        "id": "OzEvYojzYiRw",
        "outputId": "a727b884-28a6-46b2-a13a-cda50d73263c"
      },
      "execution_count": 166,
      "outputs": [
        {
          "output_type": "stream",
          "name": "stdout",
          "text": [
            "Kaggle's score for the test dataset: 0.78229\n"
          ]
        }
      ]
    },
    {
      "cell_type": "markdown",
      "source": [
        "Obtaining training and validation AUC (kaggle does not provide test AUC)"
      ],
      "metadata": {
        "id": "fUduw98Fv7yx"
      }
    },
    {
      "cell_type": "code",
      "source": [
        "# Calculate AUC for training and validation data\n",
        "y_train_prob = model.predict_proba(X_train_split)[:, 1]\n",
        "train_auc = roc_auc_score(y_train_split, y_train_prob)\n",
        "\n",
        "y_val_prob = model.predict_proba(X_val)[:, 1]\n",
        "val_auc = roc_auc_score(y_val, y_val_prob)\n",
        "\n",
        "# Create and display the table with results\n",
        "auc_data = {\n",
        "    'Train AUC': [train_auc],\n",
        "    'Validation AUC': [val_auc]\n",
        "}\n",
        "\n",
        "auc_table = pd.DataFrame(auc_data)\n",
        "print(auc_table)"
      ],
      "metadata": {
        "colab": {
          "base_uri": "https://localhost:8080/"
        },
        "id": "vPKdIf4dWhLO",
        "outputId": "8b67f80d-f619-479c-f475-2dfb6665989c"
      },
      "execution_count": 167,
      "outputs": [
        {
          "output_type": "stream",
          "name": "stdout",
          "text": [
            "   Train AUC  Validation AUC\n",
            "0    0.91887        0.833096\n"
          ]
        }
      ]
    },
    {
      "cell_type": "markdown",
      "source": [
        "Plotting the ROC Curve"
      ],
      "metadata": {
        "id": "KPwhkQMkwBzh"
      }
    },
    {
      "cell_type": "code",
      "source": [
        "# Plot the ROC curve for validation data\n",
        "fpr, tpr, thresholds = roc_curve(y_val, y_val_prob)\n",
        "\n",
        "plt.figure(figsize=(8, 6))\n",
        "plt.plot(fpr, tpr, color='g', label=f'ROC curve (AUC = {val_auc:.2f})')\n",
        "plt.plot([0, 1], [0, 1], color='gray', linestyle='--')\n",
        "plt.xlabel('False Positive Rate')\n",
        "plt.ylabel('True Positive Rate')\n",
        "plt.title('ROC Curve (Validation Data)')\n",
        "plt.legend(loc='lower right')\n",
        "plt.show()"
      ],
      "metadata": {
        "colab": {
          "base_uri": "https://localhost:8080/",
          "height": 0
        },
        "id": "den2c_GBWxXW",
        "outputId": "64fc946a-4887-4f84-e16d-62d10441f0ea"
      },
      "execution_count": 168,
      "outputs": [
        {
          "output_type": "display_data",
          "data": {
            "text/plain": [
              "<Figure size 800x600 with 1 Axes>"
            ],
            "image/png": "[encoded data removed]"
          },
          "metadata": {}
        }
      ]
    },
    {
      "cell_type": "markdown",
      "source": [
        "## Evaluating the Model: AIR"
      ],
      "metadata": {
        "id": "mD7A2RcXs6LU"
      }
    },
    {
      "cell_type": "markdown",
      "source": [
        "Creating a dataset that contains predictions in order to calculate AIR"
      ],
      "metadata": {
        "id": "2OHLVqIaxRXR"
      }
    },
    {
      "cell_type": "code",
      "source": [
        "# Adding predictions to training data in order to calculate AIR\n",
        "training_with_predictions = X_train_split.copy()\n",
        "training_with_predictions['predictions'] = model.predict(training_with_predictions)\n",
        "\n",
        "print(training_with_predictions.head())"
      ],
      "metadata": {
        "colab": {
          "base_uri": "https://localhost:8080/"
        },
        "id": "xr9C1_D6fq6z",
        "outputId": "208d838c-ed54-4e53-ca7c-7f85fd84126f"
      },
      "execution_count": 169,
      "outputs": [
        {
          "output_type": "stream",
          "name": "stdout",
          "text": [
            "      Age     Fare  Sex_male  Pclass_3  predictions\n",
            "301   NaN  23.2500      True      True            0\n",
            "309  30.0  56.9292     False     False            1\n",
            "516  34.0  10.5000     False     False            1\n",
            "120  21.0  73.5000      True     False            0\n",
            "570  62.0  10.5000      True     False            0\n"
          ]
        }
      ]
    },
    {
      "cell_type": "markdown",
      "source": [
        "AIR Calculations for Sex"
      ],
      "metadata": {
        "id": "oK_SAP0fxZ--"
      }
    },
    {
      "cell_type": "code",
      "source": [
        "# Calculate the selection rate for females (protected group) and males (control group)\n",
        "female_selection_rate = training_with_predictions[training_with_predictions['Sex_male'] == False]['predictions'].mean()\n",
        "male_selection_rate = training_with_predictions[training_with_predictions['Sex_male'] == True]['predictions'].mean()\n",
        "\n",
        "# AIR Calculation\n",
        "air = female_selection_rate / male_selection_rate\n",
        "\n",
        "print(f\"Female Selection Rate: {female_selection_rate:.4f}\")\n",
        "print(f\"Male Selection Rate: {male_selection_rate:.4f}\")\n",
        "print(f\"AIR: {air:.4f}\")"
      ],
      "metadata": {
        "colab": {
          "base_uri": "https://localhost:8080/"
        },
        "id": "GNMPyD5ljgN4",
        "outputId": "73601b23-b43b-42a0-8613-a09c588e1642"
      },
      "execution_count": 170,
      "outputs": [
        {
          "output_type": "stream",
          "name": "stdout",
          "text": [
            "Female Selection Rate: 0.7631\n",
            "Male Selection Rate: 0.0432\n",
            "AIR: 17.6647\n"
          ]
        }
      ]
    },
    {
      "cell_type": "markdown",
      "source": [
        "Visualizing Selection Rate between Sexes"
      ],
      "metadata": {
        "id": "DVTxEV3Bxejh"
      }
    },
    {
      "cell_type": "code",
      "source": [
        "# Creating Labels and Variable for selection rate of each sex\n",
        "labels = ['Female (Protected)', 'Male (Control)']\n",
        "selection_rates = [female_selection_rate, male_selection_rate]\n",
        "\n",
        "# Creating the plot\n",
        "plt.figure(figsize=(8, 6))\n",
        "plt.bar(labels, selection_rates, color=['purple', 'blue'])\n",
        "\n",
        "# Titles and labels\n",
        "plt.title('Selection Rate by Sex', fontsize=14)\n",
        "plt.ylabel('Selection Rate', fontsize=12)\n",
        "plt.ylim(0, 1)\n",
        "plt.xlabel('Group', fontsize=12)\n",
        "\n",
        "# Display  selection rates\n",
        "plt.text(0, female_selection_rate + 0.02, f'{female_selection_rate:.4f}', ha='center', fontsize=12)\n",
        "plt.text(1, male_selection_rate + 0.02, f'{male_selection_rate:.4f}', ha='center', fontsize=12)\n",
        "\n",
        "plt.show()"
      ],
      "metadata": {
        "colab": {
          "base_uri": "https://localhost:8080/",
          "height": 0
        },
        "id": "BG41SvrMl6lR",
        "outputId": "78e41e68-c4ba-438c-a7eb-2225c5c4ac43"
      },
      "execution_count": 171,
      "outputs": [
        {
          "output_type": "display_data",
          "data": {
            "text/plain": [
              "<Figure size 800x600 with 1 Axes>"
            ],
            "image/png": "[encoded data removed]"
          },
          "metadata": {}
        }
      ]
    },
    {
      "cell_type": "markdown",
      "source": [
        "Finding the AIR between 3rd class and the 1st/2nd classes"
      ],
      "metadata": {
        "id": "gl12nrkkxpIQ"
      }
    },
    {
      "cell_type": "code",
      "source": [
        "# Selection rate for class 3 (protected group) and classes 1/2 (control)\n",
        "class_3_selection_rate = training_with_predictions[training_with_predictions['Pclass_3'] == True]['predictions'].mean()\n",
        "non_class_3_selection_rate = training_with_predictions[training_with_predictions['Pclass_3'] == False]['predictions'].mean()\n",
        "\n",
        "# Calculate AIR\n",
        "air_class_3 = class_3_selection_rate / non_class_3_selection_rate\n",
        "\n",
        "print(f\"Class 3 Selection Rate: {class_3_selection_rate:.4f}\")\n",
        "print(f\"Classes 1 and 2 Selection Rate: {non_class_3_selection_rate:.4f}\")\n",
        "print(f\"Adverse Impact Ratio (AIR) for Pclass_3: {air_class_3:.4f}\")\n"
      ],
      "metadata": {
        "colab": {
          "base_uri": "https://localhost:8080/"
        },
        "id": "nICzv3hakrnf",
        "outputId": "01ccafae-680e-4814-e66f-94d37deb1219"
      },
      "execution_count": 172,
      "outputs": [
        {
          "output_type": "stream",
          "name": "stdout",
          "text": [
            "Class 3 Selection Rate: 0.1546\n",
            "Classes 1 and 2 Selection Rate: 0.4630\n",
            "Adverse Impact Ratio (AIR) for Pclass_3: 0.3340\n"
          ]
        }
      ]
    },
    {
      "cell_type": "markdown",
      "source": [
        "Visualizing AIR for classes"
      ],
      "metadata": {
        "id": "91KS9j0ExwyU"
      }
    },
    {
      "cell_type": "code",
      "source": [
        "# Creating Labels and Variable for selection rate of each class\n",
        "labels = ['Class 3 (Protected)', 'Classes 1 & 2 (Control)']\n",
        "selection_rates = [class_3_selection_rate, non_class_3_selection_rate]\n",
        "\n",
        "# creating the plot\n",
        "plt.figure(figsize=(8, 6))\n",
        "plt.bar(labels, selection_rates, color=['green', 'orange'])\n",
        "\n",
        "# titles and labels\n",
        "plt.title('Selection Rate by Class', fontsize=14)\n",
        "plt.ylabel('Selection Rate', fontsize=12)\n",
        "plt.ylim(0, 1)\n",
        "plt.xlabel('Group', fontsize=12)\n",
        "\n",
        "# Display AIR\n",
        "plt.text(0, class_3_selection_rate + 0.02, f'{class_3_selection_rate:.4f}', ha='center', fontsize=12)\n",
        "plt.text(1, non_class_3_selection_rate + 0.02, f'{non_class_3_selection_rate:.4f}', ha='center', fontsize=12)\n",
        "\n",
        "plt.show()"
      ],
      "metadata": {
        "colab": {
          "base_uri": "https://localhost:8080/",
          "height": 0
        },
        "id": "U2yFP7b3lyge",
        "outputId": "07ae7694-4e84-47c8-cf7c-c6762a8fd2bb"
      },
      "execution_count": 173,
      "outputs": [
        {
          "output_type": "display_data",
          "data": {
            "text/plain": [
              "<Figure size 800x600 with 1 Axes>"
            ],
            "image/png": "[encoded data removed]"
          },
          "metadata": {}
        }
      ]
    },
    {
      "cell_type": "markdown",
      "source": [
        "## Evaluating the Model: Confusion Matrix, Feature Importance and Learning Curve"
      ],
      "metadata": {
        "id": "29IYrQnmtFBP"
      }
    },
    {
      "cell_type": "markdown",
      "source": [
        "Creating the Confusion Matrix for the Validation Dataset"
      ],
      "metadata": {
        "id": "iRGMdkfzyC55"
      }
    },
    {
      "cell_type": "code",
      "source": [
        "# Predict on the validation set\n",
        "y_val_pred = model.predict(X_val)\n",
        "\n",
        "# Compute confusion matrix\n",
        "cm = confusion_matrix(y_val, y_val_pred)\n",
        "\n",
        "plt.figure(figsize=(6, 4))\n",
        "sns.heatmap(cm, annot=True, fmt='d', cmap='Greens', xticklabels=[\"Not Survived\", \"Survived\"], yticklabels=[\"Not Survived\", \"Survived\"])\n",
        "plt.xlabel('Predicted')\n",
        "plt.ylabel('Actual')\n",
        "plt.title('Confusion Matrix')\n",
        "plt.show()\n"
      ],
      "metadata": {
        "colab": {
          "base_uri": "https://localhost:8080/",
          "height": 410
        },
        "id": "PnxHsajF2kJe",
        "outputId": "384cae2a-c8b7-43ad-cf90-b7bc389cc239"
      },
      "execution_count": 174,
      "outputs": [
        {
          "output_type": "display_data",
          "data": {
            "text/plain": [
              "<Figure size 600x400 with 2 Axes>"
            ],
            "image/png": "[encoded data removed]"
          },
          "metadata": {}
        }
      ]
    },
    {
      "cell_type": "markdown",
      "source": [
        "Obtaining Feature Importances and Creating the Feature Importance Plot"
      ],
      "metadata": {
        "id": "eghWOMLdyGMG"
      }
    },
    {
      "cell_type": "code",
      "source": [
        "# Get feature importances\n",
        "feature_importances = model.feature_importances_\n",
        "\n",
        "feature_importance_df = pd.DataFrame({\n",
        "    'Feature': X_train.columns,\n",
        "    'Importance': feature_importances\n",
        "})\n",
        "\n",
        "# Sort by importance\n",
        "feature_importance_df = feature_importance_df.sort_values(by='Importance', ascending=False)\n",
        "\n",
        "# Plot\n",
        "plt.figure(figsize=(10, 6))\n",
        "sns.barplot(x='Importance', y='Feature', data=feature_importance_df)\n",
        "plt.title('Feature Importances')\n",
        "plt.show()"
      ],
      "metadata": {
        "colab": {
          "base_uri": "https://localhost:8080/",
          "height": 564
        },
        "id": "hgD0zjIa3Cy6",
        "outputId": "48a76f86-88e3-4ea3-d784-daa43a27bb89"
      },
      "execution_count": 175,
      "outputs": [
        {
          "output_type": "display_data",
          "data": {
            "text/plain": [
              "<Figure size 1000x600 with 1 Axes>"
            ],
            "image/png": "[encoded data removed]"
          },
          "metadata": {}
        }
      ]
    },
    {
      "cell_type": "markdown",
      "source": [
        "Caluclating precision and recall and creating the precision-recall curve"
      ],
      "metadata": {
        "id": "LubJSZooyLD2"
      }
    },
    {
      "cell_type": "code",
      "source": [
        "# Compute precision recall\n",
        "precision, recall, _ = precision_recall_curve(y_val, y_val_prob)\n",
        "\n",
        "# Plot\n",
        "plt.plot(recall, precision, label='Precision-Recall curve')\n",
        "plt.xlabel('Recall')\n",
        "plt.ylabel('Precision')\n",
        "plt.title('Precision-Recall Curve')\n",
        "plt.legend(loc='lower left')\n",
        "plt.show()"
      ],
      "metadata": {
        "colab": {
          "base_uri": "https://localhost:8080/",
          "height": 472
        },
        "id": "SFvzfOu83VJd",
        "outputId": "889225a0-ca2c-496e-a579-d1e10b92915d"
      },
      "execution_count": 176,
      "outputs": [
        {
          "output_type": "display_data",
          "data": {
            "text/plain": [
              "<Figure size 640x480 with 1 Axes>"
            ],
            "image/png": "[encoded data removed]"
          },
          "metadata": {}
        }
      ]
    },
    {
      "cell_type": "markdown",
      "source": [
        "Calculating the learning curve and plotting"
      ],
      "metadata": {
        "id": "Ig9aGucAyQaj"
      }
    },
    {
      "cell_type": "code",
      "source": [
        "# Compute learning curve\n",
        "train_sizes, train_scores, val_scores = learning_curve(\n",
        "    model, X_train, y_train, cv=5, n_jobs=-1, train_sizes=[0.1, 0.2, 0.3, 0.4, 0.5, 0.6, 0.7, 0.8, 0.9, 1.0]\n",
        ")\n",
        "\n",
        "# Plot the learning curve\n",
        "plt.plot(train_sizes, train_scores.mean(axis=1), label='Training score')\n",
        "plt.plot(train_sizes, val_scores.mean(axis=1), label='Validation score')\n",
        "plt.xlabel('Training Set Size')\n",
        "plt.ylabel('Score')\n",
        "plt.title('Learning Curve')\n",
        "plt.legend(loc='best')\n",
        "plt.show()"
      ],
      "metadata": {
        "colab": {
          "base_uri": "https://localhost:8080/",
          "height": 472
        },
        "id": "vrSbFNUX3d5o",
        "outputId": "97c87cdd-36c1-4762-9180-45f9bf818d64"
      },
      "execution_count": 177,
      "outputs": [
        {
          "output_type": "display_data",
          "data": {
            "text/plain": [
              "<Figure size 640x480 with 1 Axes>"
            ],
            "image/png": "[encoded data removed]"
          },
          "metadata": {}
        }
      ]
    }
  ]
}